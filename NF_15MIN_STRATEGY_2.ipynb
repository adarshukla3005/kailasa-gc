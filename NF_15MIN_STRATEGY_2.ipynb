{
 "cells": [
  {
   "cell_type": "markdown",
   "id": "04071ead-2eef-4f03-90e9-b0d62e410e28",
   "metadata": {},
   "source": [
    "STRATEGY 2: TREND BASED"
   ]
  },
  {
   "cell_type": "markdown",
   "id": "db624921-eb63-4124-a63b-4fa0ec95bd6d",
   "metadata": {},
   "source": [
    "HERE IS THE CODE FOR NIFTY 50 FOR 15 MIN TIMEFRAME"
   ]
  },
  {
   "cell_type": "code",
   "execution_count": 115,
   "id": "7f769e4d-9561-46b8-b1dc-d46d3efe1c3b",
   "metadata": {},
   "outputs": [],
   "source": [
    "import pandas as pd\n",
    "import numpy as np\n",
    "from datetime import time"
   ]
  },
  {
   "cell_type": "code",
   "execution_count": 117,
   "id": "c8ea1538-49ab-4b3e-9309-0d2ec92de862",
   "metadata": {},
   "outputs": [
    {
     "data": {
      "text/html": [
       "<div>\n",
       "<style scoped>\n",
       "    .dataframe tbody tr th:only-of-type {\n",
       "        vertical-align: middle;\n",
       "    }\n",
       "\n",
       "    .dataframe tbody tr th {\n",
       "        vertical-align: top;\n",
       "    }\n",
       "\n",
       "    .dataframe thead th {\n",
       "        text-align: right;\n",
       "    }\n",
       "</style>\n",
       "<table border=\"1\" class=\"dataframe\">\n",
       "  <thead>\n",
       "    <tr style=\"text-align: right;\">\n",
       "      <th></th>\n",
       "      <th>date</th>\n",
       "      <th>time</th>\n",
       "      <th>open</th>\n",
       "      <th>high</th>\n",
       "      <th>low</th>\n",
       "      <th>close</th>\n",
       "      <th>volume</th>\n",
       "      <th>datetime</th>\n",
       "    </tr>\n",
       "  </thead>\n",
       "  <tbody>\n",
       "    <tr>\n",
       "      <th>0</th>\n",
       "      <td>2020-01-01</td>\n",
       "      <td>09:15:00</td>\n",
       "      <td>12202.15</td>\n",
       "      <td>12222.05</td>\n",
       "      <td>12201.45</td>\n",
       "      <td>12221.65</td>\n",
       "      <td>0</td>\n",
       "      <td>2020-01-01 09:15:00</td>\n",
       "    </tr>\n",
       "    <tr>\n",
       "      <th>1</th>\n",
       "      <td>2020-01-01</td>\n",
       "      <td>09:30:00</td>\n",
       "      <td>12221.35</td>\n",
       "      <td>12221.90</td>\n",
       "      <td>12197.35</td>\n",
       "      <td>12203.15</td>\n",
       "      <td>0</td>\n",
       "      <td>2020-01-01 09:30:00</td>\n",
       "    </tr>\n",
       "    <tr>\n",
       "      <th>2</th>\n",
       "      <td>2020-01-01</td>\n",
       "      <td>09:45:00</td>\n",
       "      <td>12203.00</td>\n",
       "      <td>12205.00</td>\n",
       "      <td>12191.45</td>\n",
       "      <td>12200.50</td>\n",
       "      <td>0</td>\n",
       "      <td>2020-01-01 09:45:00</td>\n",
       "    </tr>\n",
       "    <tr>\n",
       "      <th>3</th>\n",
       "      <td>2020-01-01</td>\n",
       "      <td>10:00:00</td>\n",
       "      <td>12200.65</td>\n",
       "      <td>12201.20</td>\n",
       "      <td>12184.80</td>\n",
       "      <td>12190.85</td>\n",
       "      <td>0</td>\n",
       "      <td>2020-01-01 10:00:00</td>\n",
       "    </tr>\n",
       "    <tr>\n",
       "      <th>4</th>\n",
       "      <td>2020-01-01</td>\n",
       "      <td>10:15:00</td>\n",
       "      <td>12190.85</td>\n",
       "      <td>12200.45</td>\n",
       "      <td>12187.40</td>\n",
       "      <td>12197.75</td>\n",
       "      <td>0</td>\n",
       "      <td>2020-01-01 10:15:00</td>\n",
       "    </tr>\n",
       "  </tbody>\n",
       "</table>\n",
       "</div>"
      ],
      "text/plain": [
       "         date      time      open      high       low     close  volume  \\\n",
       "0  2020-01-01  09:15:00  12202.15  12222.05  12201.45  12221.65       0   \n",
       "1  2020-01-01  09:30:00  12221.35  12221.90  12197.35  12203.15       0   \n",
       "2  2020-01-01  09:45:00  12203.00  12205.00  12191.45  12200.50       0   \n",
       "3  2020-01-01  10:00:00  12200.65  12201.20  12184.80  12190.85       0   \n",
       "4  2020-01-01  10:15:00  12190.85  12200.45  12187.40  12197.75       0   \n",
       "\n",
       "             datetime  \n",
       "0 2020-01-01 09:15:00  \n",
       "1 2020-01-01 09:30:00  \n",
       "2 2020-01-01 09:45:00  \n",
       "3 2020-01-01 10:00:00  \n",
       "4 2020-01-01 10:15:00  "
      ]
     },
     "execution_count": 117,
     "metadata": {},
     "output_type": "execute_result"
    }
   ],
   "source": [
    "# LOAD AND PREPARE OF DATA\n",
    "df = pd.read_csv('datasets/NF_15.csv')\n",
    "df[\"datetime\"] = pd.to_datetime(df[\"date\"] + \" \" + df[\"time\"])\n",
    "df = df.sort_values(\"datetime\").reset_index(drop=True)\n",
    "df.head()"
   ]
  },
  {
   "cell_type": "code",
   "execution_count": 119,
   "id": "7436e201-422e-478a-99c0-e3b7408da558",
   "metadata": {},
   "outputs": [
    {
     "name": "stdout",
     "output_type": "stream",
     "text": [
      "<class 'pandas.core.frame.DataFrame'>\n",
      "RangeIndex: 31638 entries, 0 to 31637\n",
      "Data columns (total 8 columns):\n",
      " #   Column    Non-Null Count  Dtype         \n",
      "---  ------    --------------  -----         \n",
      " 0   date      31638 non-null  object        \n",
      " 1   time      31638 non-null  object        \n",
      " 2   open      31638 non-null  float64       \n",
      " 3   high      31638 non-null  float64       \n",
      " 4   low       31638 non-null  float64       \n",
      " 5   close     31638 non-null  float64       \n",
      " 6   volume    31638 non-null  int64         \n",
      " 7   datetime  31638 non-null  datetime64[ns]\n",
      "dtypes: datetime64[ns](1), float64(4), int64(1), object(2)\n",
      "memory usage: 1.9+ MB\n"
     ]
    }
   ],
   "source": [
    "df.info()"
   ]
  },
  {
   "cell_type": "code",
   "execution_count": 121,
   "id": "f6bf5d90-4bb5-47c7-b91a-371b55e2f23d",
   "metadata": {},
   "outputs": [],
   "source": [
    "# CALCULATING TRADITIONAL RENKO\n",
    "brick_size = 10\n",
    "df['renko'] = df['close'].copy()\n",
    "\n",
    "# Create Renko bricks\n",
    "renko = [df['close'][0]]\n",
    "for i in range(1, len(df)):\n",
    "    price_diff = df['close'][i] - renko[-1]\n",
    "    if abs(price_diff) >= brick_size:\n",
    "        brick_count = int(price_diff / brick_size)\n",
    "        renko.extend([renko[-1] + brick_count * brick_size] * abs(brick_count))\n",
    "\n",
    "df['renko'] = renko[:len(df)]"
   ]
  },
  {
   "cell_type": "markdown",
   "id": "8f53d17b-4889-4f9a-8aef-868c3eaad760",
   "metadata": {},
   "source": [
    "CALCULATING INDICATORS "
   ]
  },
  {
   "cell_type": "code",
   "execution_count": 123,
   "id": "da234fe5-92bb-4b95-90a3-9f30aee80d56",
   "metadata": {},
   "outputs": [],
   "source": [
    "# EMA Indicators\n",
    "df[\"EMA_9\"] = df[\"renko\"].ewm(span=9, adjust=False).mean()\n",
    "df[\"EMA_20\"] = df[\"renko\"].ewm(span=20, adjust=False).mean()\n",
    "\n",
    "from ta.momentum import RSIIndicator\n",
    "\n",
    "# RSI Calculation (using 14-period RSI)\n",
    "rsi_indicator = RSIIndicator(close=df['renko'], window=14)\n",
    "df['rsi'] = rsi_indicator.rsi()"
   ]
  },
  {
   "cell_type": "code",
   "execution_count": 1,
   "id": "db28f30a-3fdf-4c8a-b7bb-b8bd93c97445",
   "metadata": {},
   "outputs": [],
   "source": [
    "# TRADING PARAMETERS\n",
    "target = 300\n",
    "stoploss = 50\n",
    "slippage_pct = 0.0001  # 0.01%\n",
    "position = None\n",
    "entry_price = 0\n",
    "entry_time = None\n",
    "trades = []\n",
    "lot_size = 75"
   ]
  },
  {
   "cell_type": "code",
   "execution_count": 130,
   "id": "5cb11402-997c-4f62-9e46-0fc8a9e28e41",
   "metadata": {},
   "outputs": [],
   "source": [
    "# BACKTESTING THE TRADE\n",
    "for i in range(len(df)):\n",
    "    row = df.iloc[i]\n",
    "    price = row[\"renko\"]\n",
    "\n",
    "    # Entry\n",
    "    if position is None:\n",
    "        if row[\"EMA_9\"] > row[\"EMA_20\"] and row[\"rsi\"] > 60:\n",
    "            position = \"long\"\n",
    "            entry_price = price * (1 + slippage_pct)\n",
    "            entry_time = row[\"datetime\"]\n",
    "        elif row[\"EMA_9\"] < row[\"EMA_20\"]:\n",
    "            position = \"short\"\n",
    "            entry_price = price * (1 - slippage_pct)\n",
    "            entry_time = row[\"datetime\"]\n",
    "\n",
    "    # Exit\n",
    "    if position == \"long\":\n",
    "        if price <= entry_price - stoploss or price >= entry_price + target \\\n",
    "           or not (row[\"EMA_9\"] > row[\"EMA_20\"]):\n",
    "            exit_price = price * (1 - slippage_pct)\n",
    "            trades.append({\n",
    "                \"type\": \"long\",\n",
    "                \"entry_price\": entry_price,\n",
    "                \"exit_price\": exit_price,\n",
    "                \"entry_time\": entry_time,\n",
    "                \"exit_time\": row[\"datetime\"]\n",
    "            })\n",
    "            position = None\n",
    "\n",
    "    elif position == \"short\":\n",
    "        if price >= entry_price + stoploss or price <= entry_price - target \\\n",
    "           or not (row[\"EMA_9\"] < row[\"EMA_20\"]):\n",
    "            exit_price = price * (1 + slippage_pct)\n",
    "            trades.append({\n",
    "                \"type\": \"short\",\n",
    "                \"entry_price\": entry_price,\n",
    "                \"exit_price\": exit_price,\n",
    "                \"entry_time\": entry_time,\n",
    "                \"exit_time\": row[\"datetime\"]\n",
    "            })\n",
    "            position = None\n",
    "\n",
    "# Trade Analysis\n",
    "trades_df = pd.DataFrame(trades)\n",
    "\n",
    "# PnL\n",
    "trades_df[\"pnl\"] = np.where(\n",
    "    trades_df[\"type\"] == \"long\",\n",
    "    trades_df[\"exit_price\"] - trades_df[\"entry_price\"],\n",
    "    trades_df[\"entry_price\"] - trades_df[\"exit_price\"]\n",
    ")"
   ]
  },
  {
   "cell_type": "code",
   "execution_count": 135,
   "id": "c24fd4d9-8d96-4979-b67a-7d3d6e19ef0b",
   "metadata": {},
   "outputs": [],
   "source": [
    "# CAPITAL \n",
    "initial_capital = 1e6\n",
    "leverage = 5\n",
    "position_size = 15 * 75\n",
    "\n",
    "trades_df[\"pnl_amount\"] = trades_df[\"pnl\"] * position_size * leverage\n",
    "trades_df[\"equity\"] = initial_capital + trades_df[\"pnl_amount\"].cumsum()\n"
   ]
  },
  {
   "cell_type": "code",
   "execution_count": 137,
   "id": "35de2f73-e09d-47ab-9fc3-6f9845956daf",
   "metadata": {},
   "outputs": [],
   "source": [
    "# METRICS CALCULATION\n",
    "total_pnl = trades_df['pnl_amount'].sum()\n",
    "returns = trades_df['pnl_amount'] / initial_capital\n",
    "risk_free_rate = 0.06\n",
    "annualized_return = returns.mean() * 252\n",
    "annualized_volatility = returns.std() * np.sqrt(252)\n",
    "sharpe = (annualized_return - risk_free_rate) / annualized_volatility if annualized_volatility != 0 else 0\n",
    "\n",
    "# Max Drawdown\n",
    "equity = trades_df['pnl_amount'].cumsum()\n",
    "roll_max = equity.cummax()\n",
    "drawdown = roll_max - equity\n",
    "max_dd = drawdown.max() if not drawdown.empty else 1\n",
    "\n",
    "# Drawdown Duration\n",
    "drawdown_start = None\n",
    "max_drawdown_duration = 0\n",
    "current_duration = 0\n",
    "for i in range(len(drawdown)):\n",
    "    if drawdown.iloc[i] > 0:\n",
    "        current_duration += 1\n",
    "        if current_duration > max_drawdown_duration:\n",
    "            max_drawdown_duration = current_duration\n",
    "    else:\n",
    "        current_duration = 0\n",
    "\n",
    "# Calmar Ratio\n",
    "capital = initial_capital\n",
    "start_date = pd.to_datetime(trades_df['entry_time']).min()\n",
    "end_date = pd.to_datetime(trades_df['entry_time']).max()\n",
    "days = (end_date - start_date).days or 1\n",
    "annual_return = (total_pnl / capital) * (365 / days)\n",
    "max_dd_pct = max_dd / capital if capital != 0 else 0\n",
    "calmar = annual_return / max_dd_pct if max_dd_pct != 0 else 0\n",
    "\n",
    "# Other Metrics\n",
    "num_wins = trades_df[trades_df['pnl'] > 0].shape[0]\n",
    "num_losses = trades_df[trades_df['pnl'] <= 0].shape[0]\n",
    "win_rate = num_wins / len(trades_df) if len(trades_df) > 0 else 0\n",
    "profit_factor = trades_df[trades_df['pnl'] > 0]['pnl'].sum() / abs(trades_df[trades_df['pnl'] <= 0]['pnl'].sum()) if num_losses > 0 else float('inf')\n"
   ]
  },
  {
   "cell_type": "code",
   "execution_count": 139,
   "id": "90b26a2c-a0a0-4218-9396-1e0ee77d2a31",
   "metadata": {},
   "outputs": [
    {
     "name": "stdout",
     "output_type": "stream",
     "text": [
      "=== Strategy Performance Metrics (Renko + EMA Cross + Slippage) ===\n",
      "Initial Capital     : ₹1,000,000\n",
      "Effective Capital   : ₹5,000,000\n",
      "Total PnL           : ₹137,801,787\n",
      "Sharpe Ratio        : 2.28\n",
      "Max Drawdown        : ₹6,620,448\n",
      "Max Drawdown Duration: 111 days\n",
      "Calmar Ratio        : 4.08\n",
      "Win Rate            : 36.07%\n"
     ]
    }
   ],
   "source": [
    "# PRINTING METRICS\n",
    "print(\"=== Strategy Performance Metrics (Renko + EMA Cross + Slippage) ===\")\n",
    "print(f\"Initial Capital     : ₹{initial_capital:,.0f}\")\n",
    "print(f\"Effective Capital   : ₹{initial_capital * leverage:,.0f}\")\n",
    "print(f\"Total PnL           : ₹{total_pnl:,.0f}\")\n",
    "print(f\"Sharpe Ratio        : {sharpe:.2f}\")\n",
    "print(f\"Max Drawdown        : ₹{max_dd:,.0f}\")\n",
    "print(f\"Max Drawdown Duration: {max_drawdown_duration} days\")\n",
    "print(f\"Calmar Ratio        : {calmar:.2f}\")\n",
    "print(f\"Win Rate            : {win_rate:.2%}\")"
   ]
  },
  {
   "cell_type": "markdown",
   "id": "a5505c28-3110-474e-91fe-b7ac87928690",
   "metadata": {},
   "source": [
    "PLOTTING THE CURVE"
   ]
  },
  {
   "cell_type": "code",
   "execution_count": 142,
   "id": "14a49d50-f907-4643-97fe-aa3bedd96db8",
   "metadata": {},
   "outputs": [
    {
     "data": {
      "image/png": "[encoded data removed]",
      "text/plain": [
       "<Figure size 1200x600 with 1 Axes>"
      ]
     },
     "metadata": {},
     "output_type": "display_data"
    },
    {
     "data": {
      "image/png": "[encoded data removed]",
      "text/plain": [
       "<Figure size 1200x500 with 1 Axes>"
      ]
     },
     "metadata": {},
     "output_type": "display_data"
    }
   ],
   "source": [
    "import matplotlib.pyplot as plt\n",
    "\n",
    "# === Monthly Returns ===\n",
    "trades_df[\"month\"] = pd.to_datetime(trades_df[\"exit_time\"]).dt.to_period(\"M\")\n",
    "monthly_returns = trades_df.groupby(\"month\")[\"pnl_amount\"].sum()\n",
    "monthly_returns_df = monthly_returns.to_frame().reset_index()\n",
    "monthly_returns_df.columns = [\"Month\", \"Monthly PnL (₹)\"]\n",
    "\n",
    "\n",
    "# === Plot Equity Curve ===\n",
    "plt.figure(figsize=(12, 6))\n",
    "plt.plot(trades_df[\"exit_time\"], trades_df[\"equity\"], label=\"Equity Curve\", color=\"blue\")\n",
    "plt.title(\"Equity Curve\")\n",
    "plt.xlabel(\"Date\")\n",
    "plt.ylabel(\"Equity (₹)\")\n",
    "plt.grid(True)\n",
    "plt.legend()\n",
    "plt.tight_layout()\n",
    "plt.show()\n",
    "\n",
    "# Plot Monthly Returns\n",
    "plt.figure(figsize=(12, 5))\n",
    "plt.bar(monthly_returns_df[\"Month\"].astype(str), monthly_returns_df[\"Monthly PnL (₹)\"], color='skyblue')\n",
    "plt.title(\"Monthly Returns\")\n",
    "plt.xlabel(\"Month\")\n",
    "plt.ylabel(\"PnL (₹)\")\n",
    "plt.xticks(rotation=90)\n",
    "plt.grid(axis=\"y\")\n",
    "plt.tight_layout()\n",
    "plt.show()"
   ]
  }
 ],
 "metadata": {
  "kernelspec": {
   "display_name": "Python 3 (ipykernel)",
   "language": "python",
   "name": "python3"
  },
  "language_info": {
   "codemirror_mode": {
    "name": "ipython",
    "version": 3
   },
   "file_extension": ".py",
   "mimetype": "text/x-python",
   "name": "python",
   "nbconvert_exporter": "python",
   "pygments_lexer": "ipython3",
   "version": "3.12.4"
  }
 },
 "nbformat": 4,
 "nbformat_minor": 5
}
